{
 "cells": [
  {
   "cell_type": "code",
   "execution_count": null,
   "metadata": {},
   "outputs": [],
   "source": [
    "import numpy as np\n",
    "import pandas as pd\n",
    "import nltk, re, time, math, sys, os, glob, json\n",
    "import nltk\n",
    "from nltk.corpus import wordnet\n"
   ]
  },
  {
   "cell_type": "code",
   "execution_count": null,
   "metadata": {
    "scrolled": false
   },
   "outputs": [],
   "source": [
    "# find all the json files in the directory and provides the path to the files\n",
    "matches = dict()\n",
    "words = {} # place the words you would like to match on hear\n",
    "files = set()\n",
    "import glob\n",
    "c = 0\n",
    "for file in glob.iglob('**/*.json', recursive=True):\n",
    "    c+=1\n",
    "    files.add(file)\n",
    "print(c)"
   ]
  },
  {
   "cell_type": "code",
   "execution_count": null,
   "metadata": {},
   "outputs": [],
   "source": [
    "# This method takes roughly 6 minutes in this state for me to run right now on my laptop\n",
    "output = {}\n",
    "start = time.time()\n",
    "for file in files:\n",
    "    with open(file, \"r\") as read_file:\n",
    "        data = json.load(read_file)\n",
    "    del data['metadata']\n",
    "    id = data['paper_id']\n",
    "    del data['paper_id']\n",
    "    del data['ref_entries']\n",
    "    del data['bib_entries']\n",
    "    del data['back_matter']\n",
    "#     print(data)\n",
    "    for section in data:\n",
    "        for paragraph in range(len(data[section])):\n",
    "            searchwords()\n",
    "            print(section, paragraph)\n",
    "#             print(data[section][paragraph]['text'])\n",
    "#         method_name(data[section][text]) # this is the method you create goes @Rohan\n",
    "#     break # just for testing purposes\n",
    "print(\"Time: {}\".format(time.time()-start))"
   ]
  },
  {
   "cell_type": "code",
   "execution_count": null,
   "metadata": {},
   "outputs": [],
   "source": [
    "def searchWords(text_to_search, words_to_search):\n",
    "    words = nltk.word_tokenize(text_to_search)\n",
    "    for x in words_to_search:\n",
    "        for syn in wordnet.synsets(x):\n",
    "            for synoyms in syn.lemmas():\n",
    "                if synoyms.name() in words:\n",
    "                    return True\n",
    "        if x in words:\n",
    "            return True\n",
    "    return False\n"
   ]
  },
  {
   "cell_type": "code",
   "execution_count": null,
   "metadata": {
    "pycharm": {
     "name": "#%%\n"
    }
   },
   "outputs": [],
   "source": []
  }
 ],
 "metadata": {
  "kernelspec": {
   "display_name": "Python 3",
   "language": "python",
   "name": "python3"
  },
  "language_info": {
   "codemirror_mode": {
    "name": "ipython",
    "version": 3
   },
   "file_extension": ".py",
   "mimetype": "text/x-python",
   "name": "python",
   "nbconvert_exporter": "python",
   "pygments_lexer": "ipython3",
   "version": "3.7.4"
  },
  "pycharm": {
   "stem_cell": {
    "cell_type": "raw",
    "metadata": {
     "collapsed": false
    },
    "source": []
   }
  }
 },
 "nbformat": 4,
 "nbformat_minor": 4
}
