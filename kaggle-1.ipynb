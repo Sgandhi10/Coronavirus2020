{
 "cells": [
  {
   "cell_type": "code",
   "execution_count": 1,
   "metadata": {
    "pycharm": {
     "is_executing": false
    }
   },
   "outputs": [],
   "source": [
    "import numpy as np\n",
    "import pandas as pd\n",
    "import nltk, re, time, math, sys, os, glob, json\n",
    "import nltk\n",
    "from nltk.corpus import wordnet"
   ]
  },
  {
   "cell_type": "code",
   "execution_count": 2,
   "metadata": {
    "scrolled": false,
    "pycharm": {
     "is_executing": false
    }
   },
   "outputs": [
    {
     "name": "stdout",
     "text": [
      "29315\n"
     ],
     "output_type": "stream"
    }
   ],
   "source": [
    "# find all the json files in the directory and provides the path to the files\n",
    "matches = dict()\n",
    "words = {} # place the words you would like to match on hear\n",
    "files = set()\n",
    "import glob\n",
    "c = 0\n",
    "for file in glob.iglob('**/*.json', recursive=True):\n",
    "    c+=1\n",
    "    files.add(file)\n",
    "print(c)"
   ]
  },
  {
   "cell_type": "code",
   "execution_count": 3,
   "metadata": {
    "pycharm": {
     "is_executing": false
    }
   },
   "outputs": [],
   "source": [
    "def searchWords(text_to_search, words_to_search):\n",
    "    words = nltk.word_tokenize(text_to_search)\n",
    "    for x in words_to_search:\n",
    "        for syn in wordnet.synsets(x):\n",
    "            for synoyms in syn.lemmas():\n",
    "                if synoyms.name() in words:\n",
    "                    return True\n",
    "        if x in words:\n",
    "            return True\n",
    "    return False"
   ]
  },
  {
   "cell_type": "code",
   "execution_count": 4,
   "metadata": {
    "pycharm": {
     "is_executing": false
    }
   },
   "outputs": [
    {
     "name": "stdout",
     "text": [
      "The primary step for efficient control of viral diseases is the development of simple, rapid, and sensitive virus detection. Reverse transcription loop-mediated isothermal amplification (RT-LAMP) has been used to detect viral RNA molecules because of its simplicity and high sensitivity for a number of viruses. RT-LAMP for the detection of Potato virus X (PVX) was developed and compared with conventional reverse transcription polymerase chain reaction (RT-PCR) to demonstrate its advantages over RT-PCR. RT-LAMP reactions were conducted with or without a set of loop primers since one out of six primers showed PVX specificity. Based on real-time monitoring, RT-LAMP detected PVX around 30 min, compared to 120 min for RT-PCR. By adding a fluorescent reagent during the reaction, the extra step of visualization by gel electrophoresis was not necessary. RT-LAMP was conducted using simple inexpensive instruments and a regular incubator to evaluate whether RNA could be amplified at a constant temperature instead of using an expensive thermal cycler. This study shows the potential of RT-LAMP for the diagnosis of viral diseases and PVX epidemiology because of its simplicity and rapidness compared to RT-PCR.\n",
      "abstract 0\n",
      "body_text 0\n",
      "body_text 1\n",
      "body_text 2\n",
      "body_text 3\n",
      "Primer design. Primer sets were designed from the coat protein (CP) gene of PVX (Fig. 1) . Three primer sets were designed using Primer Explorer V4 (Eiken Chemical Co. Ltd., Japan), and the other three primer sets were designed using Lamp Designer (Premier Biosoft, USA). All primers were purified by HPLC.\n",
      "body_text 4\n",
      "LAMP. The RT-LAMP reaction was conducted by incubating a total reaction mixture of 25 μl at 65 o C for 60 min. A homemade mixture (Table S1 ) and two commercial mixtures (Loopamp RNA amplification kit (Eiken Chemical Co. Ltd., Japan) and Isothermal Master Mix (IMM kit) (Optigene Ltd., England)) were used. In order to optimize the RT-LAMP mixtures, different concentrations of dNTPs and primers were tested as follows: dNTPs from 0.2 to 1.4 mM, FIP and BIP (inner primers) from 20 to 40 pmole, and F3 and B3 (outer primers) from 5 to 10 pmole.\n",
      "body_text 5\n",
      "body_text 6\n",
      "Visualization under UV. RT-LAMP amplification products were visualized by adding 1 μl of fluorescent detection reagent (Eiken Co. Ltd., Tokyo, Japan) to the reaction mixture before incubation. The products were examined under natural light and under UV light.\n",
      "body_text 7\n",
      "Using the Maxime TM RT-PCR PreMix Kit (iN-tRON Biotechnology, Korea), an one-step RT-PCR reaction was conducted. The mixture was incubated at 45 o C for 30 min and denatured at 94 o C for 5 min, followed by 30 cycles of 94 o C for 30 sec, 50.7 o C for 30 sec and 72 o C for \n",
      "body_text 8\n",
      "body_text 9\n",
      "body_text 10\n",
      "body_text 11\n",
      "The RT-LAMP amplification products in the reaction tubes were visualized using fluorescent dyes under ambient light or UV light, which also allowed for determination of the detection limit of PVX RNA. RT-LAMP products showing positive results had a light green color under ambient light, whereas the negative control was light yellow-orange (Fig. 5) . Under UV light, positive tubes emitted bright fluorescent light, but negative samples showed dim or no fluorescent light (lane 1 and 2). In addition, RT-LAMP amplification products could be visualized when 2 µg to 0.02 ng of PVX RNA was used as the template, whereas no products were visualized when 0.002 ng of PVX RNA was used (lane 9), indicating that 0.02 ng of PVX RNA is the detection limit in this study.\n",
      "body_text 12\n",
      "body_text 13\n",
      "Many techniques have been developed and used for the diagnosis of potato viral diseases including PVX (El-Araby et al., 2009; Khan et al., 2003) . ELISA has been accepted as the most common and reliable detection method for viruses including PVX because it has long history of use and it is also rapid and inexpensive (Clark and Adams, 1977; Makkouk and Kumari, 2006) . In general, ELISA methods have drawbacks such as long reaction time, less specificity caused by cross reactivity, fewer numbers of antibodies available, and less sensitivity (El-Araby et al., 2009 ). Since molecular-based assays are known to have higher sensitivity, RT-PCR may reduce shortcomings caused by less sensitivity. RT-PCR-based assays have also been shown to remedy additional defects of ELISA (Agindotan et al., 2007; El-Araby et al., 2009 ). However, one of the limitations of RT-PCR is that the assay needs sophisticated and expensive instruments because it depends on thermal cycling for denaturation of double stranded DNA into single stranded DNA and enzymatic replication of the DNA (Saiki et al., 1988) .\n",
      "body_text 14\n",
      "LAMP PCR is relatively new and does not require thermal cycling because it is an assay based on isothermal amplification (Notomi et al., 2000) . RT-LAMP PCR, one of the variants of LAMP PCR, has been used for the diagnosis of plant RNA viruses (Ju, 2011; Nie, 2005) . The specificity of LAMP is generally high because the RT-LAMP PCR assay uses four primers that perceive six regions on the target gene. However, primer design seems to be an important limiting factor for the general use of RT-LAMP PCR in PVX diagnosis, as previous studies reported that more nonspecific reactions among primers are often found in LAMP PCR compared to conventional PCR (Boubourakas et al., 2009; Notomi et al., 2000; Wei et al., 2012) . In order to determine the RT-LAMP primer sets that could be used for detection of PVX, six sets of primers were designed. Only one primer set (set A) was selected based on its specificity ( Fig. S1 and S2) and sensitivity (Fig. 2) for highly successful detection of PVX.\n",
      "body_text 15\n",
      "body_text 16\n",
      "body_text 17\n",
      "body_text 18\n",
      "body_text 19\n",
      "body_text 20\n",
      "Time: 1.8878788948059082\n"
     ],
     "output_type": "stream"
    }
   ],
   "source": [
    "# This method takes roughly 6 minutes in this state for me to run right now on my laptop\n",
    "output = {}\n",
    "start = time.time()\n",
    "for file in files:\n",
    "    with open(file, \"r\") as read_file:\n",
    "        data = json.load(read_file)\n",
    "    del data['metadata']\n",
    "    id = data['paper_id']\n",
    "    del data['paper_id']\n",
    "    del data['ref_entries']\n",
    "    del data['bib_entries']\n",
    "    del data['back_matter']\n",
    "    output[file] = {}\n",
    "    for section in data:\n",
    "        output[file][section] = {}\n",
    "        for paragraph in range(len(data[section])):\n",
    "            if searchWords(data[section][paragraph]['text'], \"virus\"): \n",
    "                print(data[section][paragraph]['text'])\n",
    "                output[file][section][paragraph] = data[section][paragraph]['text']\n",
    "            print(section, paragraph)\n",
    "    break # just for testing purposes\n",
    "print(\"Time: {}\".format(time.time()-start))"
   ]
  },
  {
   "cell_type": "code",
   "execution_count": 5,
   "metadata": {
    "pycharm": {
     "is_executing": false
    }
   },
   "outputs": [],
   "source": [
    "with open('data.json', 'w') as fp:\n",
    "    json.dump(output, fp)"
   ]
  }
 ],
 "metadata": {
  "kernelspec": {
   "display_name": "Python 3",
   "language": "python",
   "name": "python3"
  },
  "language_info": {
   "codemirror_mode": {
    "name": "ipython",
    "version": 3
   },
   "file_extension": ".py",
   "mimetype": "text/x-python",
   "name": "python",
   "nbconvert_exporter": "python",
   "pygments_lexer": "ipython3",
   "version": "3.7.4"
  },
  "pycharm": {
   "stem_cell": {
    "cell_type": "raw",
    "metadata": {
     "collapsed": false
    },
    "source": []
   }
  }
 },
 "nbformat": 4,
 "nbformat_minor": 4
}